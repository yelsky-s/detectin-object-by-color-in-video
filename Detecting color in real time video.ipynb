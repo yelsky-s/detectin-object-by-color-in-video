{
 "cells": [
  {
   "cell_type": "code",
   "execution_count": 2,
   "id": "8b0a88d0",
   "metadata": {},
   "outputs": [],
   "source": [
    "#!pip install opencv-python\n",
    "import cv2\n",
    "import numpy as np\n",
    "from PIL import Image\n"
   ]
  },
  {
   "cell_type": "code",
   "execution_count": 3,
   "id": "d3037d1c",
   "metadata": {},
   "outputs": [],
   "source": [
    "#function to define the value range around our (later) chosen color\n",
    "def color_limits(color):\n",
    "    c = np.uint8([[color]])  #inserting here the BGR values for color we want to convert\n",
    "    HVC = cv2.cvtColor(c, cv2.COLOR_BGR2HSV)\n",
    "    \n",
    "    low_lim = HVC[0][0][0]-10,100,100\n",
    "    up_lim = HVC[0][0][0]+10,255,255\n",
    "    \n",
    "    #convert to numpy arrays\n",
    "    low_lim = np.array(low_lim, dtype = np.uint8)\n",
    "    up_lim = np.array(up_lim, dtype = np.uint8)\n",
    "    \n",
    "    return low_lim, up_lim"
   ]
  },
  {
   "cell_type": "markdown",
   "id": "e65b6205",
   "metadata": {},
   "source": [
    "<img src=https://www.pyimagesearch.com/wp-content/uploads/2021/04/opencv_color_spaces_hsv_cylinder.png width=\"300\">"
   ]
  },
  {
   "cell_type": "code",
   "execution_count": 4,
   "id": "2aabaa14",
   "metadata": {},
   "outputs": [],
   "source": [
    "#define color we want to highlight from our video frame\n",
    "color = [255,0,0] #color blue in BGR"
   ]
  },
  {
   "cell_type": "code",
   "execution_count": 5,
   "id": "ab55cadc",
   "metadata": {},
   "outputs": [
    {
     "ename": "KeyboardInterrupt",
     "evalue": "",
     "output_type": "error",
     "traceback": [
      "\u001b[1;31m---------------------------------------------------------------------------\u001b[0m",
      "\u001b[1;31mKeyboardInterrupt\u001b[0m                         Traceback (most recent call last)",
      "\u001b[1;32m~\\AppData\\Local\\Temp/ipykernel_22336/4203989926.py\u001b[0m in \u001b[0;36m<module>\u001b[1;34m\u001b[0m\n\u001b[0;32m      2\u001b[0m \u001b[0mvid_cap\u001b[0m \u001b[1;33m=\u001b[0m \u001b[0mcv2\u001b[0m\u001b[1;33m.\u001b[0m\u001b[0mVideoCapture\u001b[0m\u001b[1;33m(\u001b[0m\u001b[1;36m0\u001b[0m\u001b[1;33m)\u001b[0m\u001b[1;33m\u001b[0m\u001b[1;33m\u001b[0m\u001b[0m\n\u001b[0;32m      3\u001b[0m \u001b[1;32mwhile\u001b[0m \u001b[1;32mTrue\u001b[0m\u001b[1;33m:\u001b[0m\u001b[1;33m\u001b[0m\u001b[1;33m\u001b[0m\u001b[0m\n\u001b[1;32m----> 4\u001b[1;33m     \u001b[0mret\u001b[0m\u001b[1;33m,\u001b[0m \u001b[0mframe\u001b[0m \u001b[1;33m=\u001b[0m \u001b[0mvid_cap\u001b[0m\u001b[1;33m.\u001b[0m\u001b[0mread\u001b[0m\u001b[1;33m(\u001b[0m\u001b[1;33m)\u001b[0m\u001b[1;33m\u001b[0m\u001b[1;33m\u001b[0m\u001b[0m\n\u001b[0m\u001b[0;32m      5\u001b[0m \u001b[1;31m###\u001b[0m\u001b[1;33m\u001b[0m\u001b[1;33m\u001b[0m\u001b[0m\n\u001b[0;32m      6\u001b[0m     \u001b[1;31m#converting to HSV colorscheme\u001b[0m\u001b[1;33m\u001b[0m\u001b[1;33m\u001b[0m\u001b[0m\n",
      "\u001b[1;31mKeyboardInterrupt\u001b[0m: "
     ]
    }
   ],
   "source": [
    "#open web camera and display the video frame\n",
    "vid_cap = cv2.VideoCapture(0)\n",
    "while True:\n",
    "    ret, frame = vid_cap.read()\n",
    "###    \n",
    "    #converting to HSV colorscheme\n",
    "    im_hsv = cv2.cvtColor(frame, cv2.COLOR_BGR2HSV)\n",
    "    \n",
    "    lower_lim, upper_lim = color_limits(color = color) #getting the color limits from olor_limits function (2nd cell above)\n",
    "    \n",
    "    #selecting pixels that we need (our chosen color) from image. It basically masks to black everything else\n",
    "    white_on_blackenned = cv2.inRange(im_hsv, lower_lim, upper_lim)\n",
    "    \n",
    "    #contouring (bonding box) box around our selected found color using Pillow Image\n",
    "    white_on_black = Image.fromarray(white_on_blackenned) #change the format of white_on_blackenned into an array\n",
    "    box = white_on_black.getbbox()\n",
    "    \n",
    "    if box is not None:#box is None when there is no object of our color in a frame\n",
    "        x1,y1,x2,y2 = box #if objec is detected box (getbbox()) returns 2 corners of a box: upper left and lower right\n",
    "        #drawing a rectangle with box coordinated (x1,y1,x2,y2)\n",
    "        frame = cv2.rectangle(frame, (x1,y1), (x2,y2), (0,255,255), 5) #params: frame, ULcorner, LR corner, color, thickness\n",
    "        #box like that defines (includes) one broadest box with everything of our color inside, including non that in between/inside.\n",
    "###    \n",
    "    cv2.imshow('video frame', frame) \n",
    "    #for showing the masked frame -> cv2.imshow('video frame', white_on_blackenned)\n",
    "    \n",
    "    if cv2.waitKey(1) & 0xFF == ord('q'):\n",
    "        break\n",
    "        \n",
    "#close video capture\n",
    "cap.release()\n",
    "\n",
    "cv2.destroyAllWindows()    \n",
    "    "
   ]
  },
  {
   "cell_type": "code",
   "execution_count": null,
   "id": "59273aa5",
   "metadata": {},
   "outputs": [],
   "source": []
  },
  {
   "cell_type": "code",
   "execution_count": null,
   "id": "a2490550",
   "metadata": {},
   "outputs": [],
   "source": [
    "# #close video capture\n",
    "# cap.release()\n",
    "\n",
    "# cv2.destroyAllWindows()  "
   ]
  }
 ],
 "metadata": {
  "kernelspec": {
   "display_name": "Python 3 (ipykernel)",
   "language": "python",
   "name": "python3"
  },
  "language_info": {
   "codemirror_mode": {
    "name": "ipython",
    "version": 3
   },
   "file_extension": ".py",
   "mimetype": "text/x-python",
   "name": "python",
   "nbconvert_exporter": "python",
   "pygments_lexer": "ipython3",
   "version": "3.9.7"
  }
 },
 "nbformat": 4,
 "nbformat_minor": 5
}
